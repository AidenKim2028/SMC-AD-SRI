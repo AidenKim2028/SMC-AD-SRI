{
 "cells": [
  {
   "cell_type": "code",
   "execution_count": null,
   "metadata": {
    "vscode": {
     "languageId": "plaintext"
    }
   },
   "outputs": [],
   "source": [
    "# 각 PSG 마다 total sleep time이 정리되어 있는 excel 파일이 있는 경우 실행 가능한 프로그램입니다.\n",
    "\n",
    "SpO2_folder_path = 'C:/Users/smcsl/Desktop/PSG_study/Brain_age/Hypoxic_burden/Raw_data/SpO2/'\n",
    "Patients_excel_path = 'C:/Users/smcsl/Desktop/PSG_study/Brain_age/Hypoxic_burden/Raw_data/Patients_excel/'\n",
    "Patients_excel_file_name = 'patients.xlsx'\n",
    "tst_column_name = 'tst'\n",
    "PSG_no_column_name = 'PSG_no'\n",
    "Result_path = 'C:/Users/smcsl/Desktop/PSG_study/Brain_age/Weighted_hypoxemia/'\n",
    "Result_name = 'Weighted_hypoxemia'\n",
    "\n",
    "if '\\\\' in SpO2_folder_path:\n",
    "    raise SystemError('SpO2_folder_path 에 \\ 있습니다. / 으로 바꿔주세요')\n",
    "if '/' != SpO2_folder_path[-1]:\n",
    "    raise SystemError('SpO2_folder_path 마지막에 / 붙여주세요')\n",
    "if '\\\\' in Events_folder_path:\n",
    "    raise SystemError('Events_folder_path 에 \\ 있습니다. / 으로 바꿔주세요')\n",
    "if '/' != Events_folder_path[-1]:\n",
    "    raise SystemError('Events_folder_path 마지막에 / 붙여주세요')\n",
    "if '\\\\' in Patients_excel_path:\n",
    "    raise SystemError('Patients_excel_path 에 \\ 있습니다. / 으로 바꿔주세요')\n",
    "if '/' != Patients_excel_path[-1]:\n",
    "    raise SystemError('Patients_excel_path 마지막에 / 붙여주세요')\n",
    "if '\\\\' in Result_path:\n",
    "    raise SystemError('Result_path 에 \\ 있습니다. / 으로 바꿔주세요')\n",
    "if '/' != Result_path[-1]:\n",
    "    raise SystemError('Result_path 마지막에 / 붙여주세요')\n",
    "if '.xlsx' != Patients_excel_file_name[-5:]:\n",
    "    raise SystemError('Patients_excel_file_name 마지막에 .xlsx 붙여주세요')\n"
   ]
  }
 ],
 "metadata": {
  "language_info": {
   "name": "python"
  }
 },
 "nbformat": 4,
 "nbformat_minor": 2
}
