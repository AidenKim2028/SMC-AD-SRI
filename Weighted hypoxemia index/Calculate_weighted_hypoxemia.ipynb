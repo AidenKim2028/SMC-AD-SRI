{
 "cells": [
  {
   "cell_type": "code",
   "execution_count": null,
   "metadata": {},
   "outputs": [
    {
     "name": "stderr",
     "output_type": "stream",
     "text": [
      " 33%|███▎      | 1/3 [00:05<00:11,  5.66s/it]Superfluous whitespace found in object header b'2' b'0'\n",
      "Superfluous whitespace found in object header b'3' b'0'\n",
      "Superfluous whitespace found in object header b'34' b'0'\n",
      "Superfluous whitespace found in object header b'59' b'0'\n",
      "Superfluous whitespace found in object header b'33' b'0'\n",
      "Superfluous whitespace found in object header b'11' b'0'\n",
      "Superfluous whitespace found in object header b'10' b'0'\n",
      "Superfluous whitespace found in object header b'9' b'0'\n",
      "Superfluous whitespace found in object header b'19' b'0'\n",
      "Superfluous whitespace found in object header b'18' b'0'\n",
      "Superfluous whitespace found in object header b'17' b'0'\n",
      "Superfluous whitespace found in object header b'27' b'0'\n",
      "Superfluous whitespace found in object header b'26' b'0'\n",
      "Superfluous whitespace found in object header b'25' b'0'\n",
      "Superfluous whitespace found in object header b'32' b'0'\n",
      "Superfluous whitespace found in object header b'28' b'0'\n",
      "Superfluous whitespace found in object header b'29' b'0'\n",
      "Superfluous whitespace found in object header b'30' b'0'\n",
      "Superfluous whitespace found in object header b'31' b'0'\n"
     ]
    },
    {
     "name": "stdout",
     "output_type": "stream",
     "text": [
      "PE250550: 25 times down 90.0\n",
      "PE250547: 1038 times down 90.0\n"
     ]
    },
    {
     "name": "stderr",
     "output_type": "stream",
     "text": [
      "100%|██████████| 3/3 [02:41<00:00, 53.83s/it]"
     ]
    },
    {
     "name": "stdout",
     "output_type": "stream",
     "text": [
      "PE250559: 4305 times down 90.0\n"
     ]
    },
    {
     "name": "stderr",
     "output_type": "stream",
     "text": [
      "\n"
     ]
    }
   ],
   "source": [
    "# Total sleep time이 정리되어 있는 excel 파일이 없는 경우 실행 가능한 프로그램입니다.\n",
    "# 단, hypoxic burden을 계산하고자 하는 모든 PSG들의 \"Polysomnography Report\" pdf 파일이 필요합니다.\n",
    "# ModuleNotFoundError 발생하면 오른쪽 위 \"Python 3.11.2\" 을 클릭 -> Select Another Kernel -> Python Environments... -> base (Python 3.9.7) 클릭\n",
    "# ***** 주의 ***** 프로그램으로 돌리고 싶은 SpO2, Events, Reports 파일이 \"OneDrive\" 파일에 있는지 아닌지 확인!\n",
    "# OneDrive 파일에 있다면, 바로 밑 5줄로 실행\n",
    "SpO2_folder_path = 'C:/Users/smcsl/Desktop/PSG_study/Brain_age/Hypoxic_burden/Raw_data/6-SpO2/'\n",
    "Events_folder_path = 'C:/Users/smcsl/Desktop/PSG_study/Brain_age/Hypoxic_burden/Raw_data/6-Events/'\n",
    "Reports_folder_path = 'C:/Users/smcsl/Desktop/PSG_study/Brain_age/Hypoxic_burden/Raw_data/6-Reports/'\n",
    "Result_path = 'C:/Users/smcsl/Desktop/PSG_study/Brain_age/Hypoxic_burden/'\n",
    "Result_name = 'Weighted_hypoxemia_6'\n",
    "\n",
    "# OneDrive 파일에 없다면, 위 5줄 앞에 # 하나씩 붙이고, 아래 5줄 앞에 # 지우기\n",
    "#SpO2_folder_path = 'C:/Users/smcsl/Desktop/PSG_study/Brain_age/Hypoxic_burden/Raw_data/6-SpO2/'\n",
    "#Events_folder_path = 'C:/Users/smcsl/Desktop/PSG_study/Brain_age/Hypoxic_burden/Raw_data/6-Events/'\n",
    "#Reports_folder_path = 'C:/Users/smcsl/Desktop/PSG_study/Brain_age/Hypoxic_burden/Raw_data/6-Reports/'\n",
    "#Result_path = 'C:/Users/smcsl/Desktop/PSG_study/Brain_age/Hypoxic_burden/'\n",
    "#Result_name = 'Hypoxic_burden_pdf_6'\n",
    "\n",
    "if '\\\\' in SpO2_folder_path:\n",
    "    raise SystemError('SpO2_folder_path 에 \\ 있습니다. / 으로 바꿔주세요')\n",
    "if '/' != SpO2_folder_path[-1]:\n",
    "    raise SystemError('SpO2_folder_path 마지막에 / 붙여주세요')\n",
    "if '\\\\' in Events_folder_path:\n",
    "    raise SystemError('Events_folder_path 에 \\ 있습니다. / 으로 바꿔주세요') \n",
    "if '/' != Events_folder_path[-1]:\n",
    "    raise SystemError('Events_folder_path 마지막에 / 붙여주세요')\n",
    "if '\\\\' in Reports_folder_path:\n",
    "    raise SystemError('Reports_folder_path 에 \\ 있습니다. / 으로 바꿔주세요')  \n",
    "if '/' != Reports_folder_path[-1]:\n",
    "    raise SystemError('Reports_folder_path 마지막에 / 붙여주세요')\n",
    "if '\\\\' in Result_path:\n",
    "    raise SystemError('Result_path 에 \\ 있습니다. / 으로 바꿔주세요')  \n",
    "if '/' != Result_path[-1]:\n",
    "    raise SystemError('Result_path 마지막에 / 붙여주세요')\n",
    "    \n",
    "import PyPDF2\n",
    "import pandas as pd\n",
    "import numpy as np\n",
    "import os, sys\n",
    "dir_path = os.path.dirname(os.path.realpath('tools'))\n",
    "sys.path.append(os.path.abspath(os.path.join(dir_path, os.pardir)))\n",
    "import re\n",
    "from tqdm import tqdm\n",
    "import warnings\n",
    "import importlib\n",
    "import WHI\n",
    "importlib.reload(WHI)\n",
    "warnings.filterwarnings(\"ignore\")\n",
    "\n",
    "def find_file_by_PSG_no(folder, PSG_no):\n",
    "    txt_re = re.compile(PSG_no.lower())\n",
    "    try:\n",
    "        return [file for file in folder if len(txt_re.findall(file.lower())) != 0][0]\n",
    "    except:\n",
    "        return False\n",
    "\n",
    "SpO2_folder = os.listdir(SpO2_folder_path)\n",
    "Events_folder = os.listdir(Events_folder_path)\n",
    "Reports_folder = os.listdir(Reports_folder_path)\n",
    "\n",
    "for file in SpO2_folder:\n",
    "    if ',' not in file:\n",
    "        raise SystemError(file, ' 파일 이름에 PSG number 근처로 쉼표(,) 확인 부탁드립니다. 파일 이름 형식은 메뉴얼 참고 부탁드립니다.')\n",
    "for file in Events_folder:\n",
    "    if '-' not in file:\n",
    "        raise SystemError(file, ' 파일 이름에 PSG number 근처로 띄어쓰기 또는 짝대기(-) 확인 부탁드립니다. 파일 이름 형식은 메뉴얼 참고 부탁드립니다.')\n",
    "for file in Reports_folder:\n",
    "    if '-' not in file:\n",
    "        raise SystemError(file, ' 파일 이름에 PSG number 근처로 짝대기(-) 확인 부탁드립니다. 파일 이름 형식은 메뉴얼 참고 부탁드립니다.')\n",
    "\n",
    "SpO2_PSG_no_list = [file.split(',')[0] for file in SpO2_folder]\n",
    "Events_PSG_no_list = [file.split(' ')[1].split('-')[0] for file in Events_folder]\n",
    "Reports_PSG_no_list = [file.split('-')[0] for file in Reports_folder]\n",
    "\n",
    "PSG_no_list = list(set(SpO2_PSG_no_list) & set(Events_PSG_no_list) & set(Reports_PSG_no_list))\n",
    "\n",
    "hypoxic_burden_df = pd.DataFrame(columns = ['Total sleep time (h)', 'Apnea-specific hypoxic burden (%min/h)', 'Hypopnea-specific hypoxic burden (%min/h)', \\\n",
    "    'Total hypoxic burden (%min/h)', 'Weighted hypoxemia index (upper = 90%)'], index = PSG_no_list)\n",
    "    \n",
    "miss_SpO2 = list(set(SpO2_PSG_no_list) - set(PSG_no_list))\n",
    "miss_Events = list(set(Events_PSG_no_list) - set(PSG_no_list))\n",
    "miss_Report = list(set(Reports_PSG_no_list) - set(PSG_no_list))\n",
    "\n",
    "if len(miss_SpO2):\n",
    "    print('다음이 포함된 SpO2 파일들은 이름 형식이 잘못되어 hypoxic burden 계산이 되지 않습니다.')\n",
    "    print(miss_SpO2)\n",
    "    print('수정하기 위해서는 상단의 정지 표시의 \"Interrupt\"를 눌러주시고 파일 이름 형식 수정 후 다시 실행하십시오')\n",
    "    print('-------------------------------------------------------------------------------------------------------------------------------------------')   \n",
    "if len(miss_Events):\n",
    "    print('다음이 포함된 Event 파일들은 이름 형식이 잘못되어 hypoxic burden 계산이 되지 않습니다.')\n",
    "    print(miss_Events)\n",
    "    print('수정하기 위해서는 상단의 정지 표시의 \"Interrupt\"를 눌러주시고 파일 이름 형식 수정 후 다시 실행하십시오')\n",
    "    print('-------------------------------------------------------------------------------------------------------------------------------------------')\n",
    "if len(miss_Report):\n",
    "    print('다음이 포함된 Report 파일들을 찾을 수가 없어, hypoxic burden 계산이 되지 않습니다.')\n",
    "    print(miss_Report)\n",
    "    print('수정하기 위해서는 상단의 정지 표시의 \"Interrupt\"를 눌러주시고 파일 이름 형식 수정 후 다시 실행하십시오')\n",
    "    print('-------------------------------------------------------------------------------------------------------------------------------------------')\n",
    "\n",
    "for PSG_no in tqdm(PSG_no_list):\n",
    "    Reports_file = find_file_by_PSG_no(Reports_folder, PSG_no)\n",
    "    Event_file = find_file_by_PSG_no(Events_folder, PSG_no)\n",
    "    SpO2_file = find_file_by_PSG_no(SpO2_folder, PSG_no)\n",
    "    if Reports_file and Event_file and SpO2_file:\n",
    "        SpO2_path = SpO2_folder_path + SpO2_file\n",
    "        Resp_event_path = Events_folder_path + Event_file\n",
    "        Reports_path = Reports_folder_path + Reports_file\n",
    "        \n",
    "        pdfFileObj = open(Reports_path, 'rb')\n",
    "        tst = float(PyPDF2.PdfFileReader(pdfFileObj).getPage(0).extractText().split('minutes')[5])/60\n",
    "\n",
    "        psg = WHI.PSG(PSG_no, tst, SpO2_path, Resp_event_path)\n",
    "\n",
    "        hypoxic_burden_df.loc[PSG_no, 'Total sleep time (h)'] = tst\n",
    "        hypoxic_burden_df.loc[PSG_no, ['Apnea-specific hypoxic burden (%min/h)', 'Hypopnea-specific hypoxic burden (%min/h)', \\\n",
    "            'Total hypoxic burden (%min/h)']] = psg.hypoxic_burden()\n",
    "        hypoxic_burden_df.loc[PSG_no, 'Weighted hypoxemia index (upper = 90%, %min^2/h)'] = psg.calculate_whi()\n",
    "    else:\n",
    "        raise SystemError('Missing Report or SpO2 or Event file of ' + PSG_no)\n",
    "\n",
    "hypoxic_burden_df.index.name = 'PSG_no'\n",
    "hypoxic_burden_df.to_excel(Result_path + Result_name + '.xlsx')\n",
    "\n"
   ]
  },
  {
   "cell_type": "code",
   "execution_count": null,
   "metadata": {},
   "outputs": [],
   "source": []
  },
  {
   "cell_type": "code",
   "execution_count": null,
   "metadata": {},
   "outputs": [],
   "source": []
  },
  {
   "cell_type": "markdown",
   "metadata": {},
   "source": []
  },
  {
   "cell_type": "code",
   "execution_count": null,
   "metadata": {},
   "outputs": [],
   "source": []
  }
 ],
 "metadata": {
  "kernelspec": {
   "display_name": "base",
   "language": "python",
   "name": "python3"
  },
  "language_info": {
   "codemirror_mode": {
    "name": "ipython",
    "version": 3
   },
   "file_extension": ".py",
   "mimetype": "text/x-python",
   "name": "python",
   "nbconvert_exporter": "python",
   "pygments_lexer": "ipython3",
   "version": "3.9.7"
  },
  "orig_nbformat": 4
 },
 "nbformat": 4,
 "nbformat_minor": 2
}
